{
 "metadata": {
  "language_info": {
   "codemirror_mode": {
    "name": "ipython",
    "version": 3
   },
   "file_extension": ".py",
   "mimetype": "text/x-python",
   "name": "python",
   "nbconvert_exporter": "python",
   "pygments_lexer": "ipython3",
   "version": "3.8.5"
  },
  "orig_nbformat": 2,
  "kernelspec": {
   "name": "python3",
   "display_name": "Python 3.8.5 64-bit ('base': conda)",
   "metadata": {
    "interpreter": {
     "hash": "ddc402789f8b2e5208dd288af226573a41ecf0349140629ddb65adc1b92757fc"
    }
   }
  }
 },
 "nbformat": 4,
 "nbformat_minor": 2,
 "cells": [
  {
   "cell_type": "code",
   "execution_count": 1,
   "metadata": {},
   "outputs": [
    {
     "output_type": "stream",
     "name": "stdout",
     "text": [
      "53\n[51.8984375, 52.02734375, 52.02734375]\n"
     ]
    }
   ],
   "source": [
    "from memory_profiler import memory_usage\n",
    "def f(a):\n",
    "    u = a\n",
    "    for i in range(10):\n",
    "        u += i\n",
    "    print(u)\n",
    "mem_usage = memory_usage((f, (8,)), timeout=0.1)\n",
    "print(mem_usage)"
   ]
  },
  {
   "cell_type": "code",
   "execution_count": 11,
   "metadata": {},
   "outputs": [
    {
     "output_type": "stream",
     "name": "stdout",
     "text": [
      "ERROR: Could not find file <ipython-input-11-2c0db5aaaf58>\nNOTE: %mprun can only be used on functions defined in physical files, and not in the IPython environment.\n53\n"
     ]
    }
   ],
   "source": [
    "from memory_profiler import profile\n",
    "@profile\n",
    "def f(a):\n",
    "    u = a\n",
    "    for i in range(10):\n",
    "        u += i\n",
    "    print(u)\n",
    "f(8)"
   ]
  },
  {
   "cell_type": "code",
   "execution_count": null,
   "metadata": {},
   "outputs": [],
   "source": []
  }
 ]
}